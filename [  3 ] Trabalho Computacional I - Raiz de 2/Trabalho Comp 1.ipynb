{
 "cells": [
  {
   "cell_type": "code",
   "execution_count": 1,
   "metadata": {},
   "outputs": [
    {
     "name": "stdout",
     "output_type": "stream",
     "text": [
      "1.5\n",
      "1.25\n",
      "1.375\n",
      "1.4375\n",
      "1.40625\n",
      "1.421875\n",
      "1.4140625\n",
      "1.41796875\n",
      "1.416015625\n",
      "1.4150390625\n",
      "1.41455078125\n",
      "1.414306640625\n",
      "1.4141845703125\n",
      "1.41424560546875\n",
      "1.414215087890625\n",
      "1.4141998291015625\n",
      "1.4142074584960938\n",
      "1.4142112731933594\n",
      "1.4142131805419922\n",
      "1.4142141342163086\n",
      "1.4142136573791504\n",
      "1.4142134189605713\n",
      "1.4142135381698608\n",
      "1.4142135977745056\n",
      "1.4142135679721832\n",
      "1.414213553071022\n",
      "1.4142135605216026\n",
      "1.414213564246893\n",
      "1.4142135623842478\n",
      "1.4142135614529252\n",
      "1.4142135619185865\n",
      "1.4142135621514171\n"
     ]
    },
    {
     "data": {
      "text/plain": [
       "1.4142135621514171"
      ]
     },
     "execution_count": 1,
     "metadata": {},
     "output_type": "execute_result"
    }
   ],
   "source": [
    "def função (x):\n",
    "    return x**2 - 2\n",
    "\n",
    "def bissecção (ini, fim):\n",
    "    meio = (fim + ini)/2\n",
    "    while (abs(fim - ini) > 10**(-9) or abs(função(meio)) > 10**(-9)):\n",
    "        if (função(meio) > 0):\n",
    "            fim = meio\n",
    "        else:\n",
    "            ini = meio\n",
    "        meio = (fim + ini)/2\n",
    "        print(meio)\n",
    "\n",
    "    return meio    \n",
    "\n",
    "bissecção(0, 2)"
   ]
  },
  {
   "cell_type": "code",
   "execution_count": 14,
   "metadata": {},
   "outputs": [
    {
     "name": "stdout",
     "output_type": "stream",
     "text": [
      "100.005\n",
      "50.012499500024994\n",
      "25.026244751462073\n",
      "12.553080428164835\n",
      "6.356201935818569\n",
      "3.3354276246293586\n",
      "1.9675254444471926\n",
      "1.4920153615082516\n",
      "1.4162420669397466\n",
      "1.4142150151017185\n",
      "1.4142135623738412\n"
     ]
    },
    {
     "data": {
      "text/plain": [
       "1.4142135623738412"
      ]
     },
     "execution_count": 14,
     "metadata": {},
     "output_type": "execute_result"
    }
   ],
   "source": [
    "# An = (A(n-1) + 2/A(n-1))/2 \n",
    "\n",
    "def Heron (x, A):\n",
    "    while (abs(A**2 - x) > 10**(-9)):\n",
    "        A = (A + x/A)/2\n",
    "        print(A)\n",
    "    return A\n",
    "\n",
    "Heron(2, 200)"
   ]
  }
 ],
 "metadata": {
  "kernelspec": {
   "display_name": "Python 3",
   "language": "python",
   "name": "python3"
  },
  "language_info": {
   "codemirror_mode": {
    "name": "ipython",
    "version": 3
   },
   "file_extension": ".py",
   "mimetype": "text/x-python",
   "name": "python",
   "nbconvert_exporter": "python",
   "pygments_lexer": "ipython3",
   "version": "3.11.4"
  }
 },
 "nbformat": 4,
 "nbformat_minor": 2
}

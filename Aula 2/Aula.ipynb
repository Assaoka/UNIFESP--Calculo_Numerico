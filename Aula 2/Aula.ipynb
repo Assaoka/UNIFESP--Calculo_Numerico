{
 "cells": [
  {
   "cell_type": "code",
   "execution_count": 11,
   "metadata": {},
   "outputs": [
    {
     "name": "stdout",
     "output_type": "stream",
     "text": [
      "(0.6553181593147065, 3)\n"
     ]
    }
   ],
   "source": [
    "def f(x): return x**5-3*x**3-5*x+4\n",
    "\n",
    "def df(x): return 5*x**4-9*x**2-5\n",
    "\n",
    "def newton(f,df,x0,tol=1e-6):\n",
    "    x = x0\n",
    "    i = 0\n",
    "    while abs(f(x))>tol:\n",
    "        i += 1\n",
    "        x = x-f(x)/df(x)\n",
    "    return x, i\n",
    "\n",
    "print(newton(f,df,1))"
   ]
  },
  {
   "cell_type": "code",
   "execution_count": 7,
   "metadata": {},
   "outputs": [
    {
     "data": {
      "text/plain": [
       "-7.425416725936884e-09"
      ]
     },
     "execution_count": 7,
     "metadata": {},
     "output_type": "execute_result"
    }
   ],
   "source": [
    "f(0.6553181593147065)"
   ]
  }
 ],
 "metadata": {
  "kernelspec": {
   "display_name": "Python 3",
   "language": "python",
   "name": "python3"
  },
  "language_info": {
   "codemirror_mode": {
    "name": "ipython",
    "version": 3
   },
   "file_extension": ".py",
   "mimetype": "text/x-python",
   "name": "python",
   "nbconvert_exporter": "python",
   "pygments_lexer": "ipython3",
   "version": "3.11.4"
  }
 },
 "nbformat": 4,
 "nbformat_minor": 2
}

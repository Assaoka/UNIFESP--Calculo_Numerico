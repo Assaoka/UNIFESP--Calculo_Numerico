{
 "cells": [
  {
   "cell_type": "code",
   "execution_count": 56,
   "metadata": {},
   "outputs": [],
   "source": [
    "Casa_Thomas = [-23.205850, -45.896660]\n",
    "Unifesp = [-23.160230, -45.791520]"
   ]
  },
  {
   "cell_type": "code",
   "execution_count": 57,
   "metadata": {},
   "outputs": [],
   "source": [
    "def distancia (a, b):\n",
    "    return ((a[0] - b[0])**2 + (a[1] - b[1])**2)**0.5\n",
    "\n",
    "def distancias (a, b):\n",
    "    base = distancia(a, b)\n",
    "    for i in range(6, 0, -1):\n",
    "        print(f'{i} Casas Decimais:')\n",
    "        dt = [round(a[0], i), round(a[1], i)]\n",
    "        df = [round(b[0], i), round(b[1], i)]\n",
    "        print(f'''Distância entre {dt} e {df}:''')\n",
    "\n",
    "        dist = distancia(dt, df)\n",
    "        erro = abs(dist - base)\n",
    "        print(f'''Erro Absoluto: {erro}\n",
    "Erro Relativo: {100*erro/dist}%\n",
    "''')"
   ]
  },
  {
   "cell_type": "code",
   "execution_count": 58,
   "metadata": {},
   "outputs": [
    {
     "name": "stdout",
     "output_type": "stream",
     "text": [
      "6 Casas Decimais:\n",
      "Distância entre [-23.20585, -45.89666] e [-23.16023, -45.79152]:\n",
      "Erro Absoluto: 0.0\n",
      "Erro Relativo: 0.0%\n",
      "\n",
      "5 Casas Decimais:\n",
      "Distância entre [-23.20585, -45.89666] e [-23.16023, -45.79152]:\n",
      "Erro Absoluto: 0.0\n",
      "Erro Relativo: 0.0%\n",
      "\n",
      "4 Casas Decimais:\n",
      "Distância entre [-23.2059, -45.8967] e [-23.1602, -45.7915]:\n",
      "Erro Absoluto: 8.689614297341386e-05\n",
      "Erro Relativo: 0.07576110936010569%\n",
      "\n",
      "3 Casas Decimais:\n",
      "Distância entre [-23.206, -45.897] e [-23.16, -45.792]:\n",
      "Erro Absoluto: 2.3538150066476637e-05\n",
      "Erro Relativo: 0.020533270085184813%\n",
      "\n",
      "2 Casas Decimais:\n",
      "Distância entre [-23.21, -45.9] e [-23.16, -45.79]:\n",
      "Erro Absoluto: 0.006219797055721871\n",
      "Erro Relativo: 5.1475406692271%\n",
      "\n",
      "1 Casas Decimais:\n",
      "Distância entre [-23.2, -45.9] e [-23.2, -45.8]:\n",
      "Erro Absoluto: 0.014610662680222208\n",
      "Erro Relativo: 14.610662680222001%\n",
      "\n"
     ]
    }
   ],
   "source": [
    "distancias(Casa_Thomas, Unifesp)"
   ]
  }
 ],
 "metadata": {
  "kernelspec": {
   "display_name": "Python 3",
   "language": "python",
   "name": "python3"
  },
  "language_info": {
   "codemirror_mode": {
    "name": "ipython",
    "version": 3
   },
   "file_extension": ".py",
   "mimetype": "text/x-python",
   "name": "python",
   "nbconvert_exporter": "python",
   "pygments_lexer": "ipython3",
   "version": "3.11.4"
  }
 },
 "nbformat": 4,
 "nbformat_minor": 2
}

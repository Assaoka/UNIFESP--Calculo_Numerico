{
 "cells": [
  {
   "cell_type": "code",
   "execution_count": 9,
   "metadata": {},
   "outputs": [],
   "source": [
    "def função (x):\n",
    "    return x**3 + 2*x**2 + 10*x -20\n",
    "\n",
    "def bissecção (ini, fim):\n",
    "    meio = (fim + ini)/2\n",
    "    while (abs(fim - ini) > 10**(-9) or abs(função(meio)) > 10**(-9)):\n",
    "        if (função(meio) > 0):\n",
    "            fim = meio\n",
    "        else:\n",
    "            ini = meio\n",
    "        meio = (fim + ini)/2\n",
    "        print(meio)\n",
    "\n",
    "    return meio    "
   ]
  },
  {
   "cell_type": "code",
   "execution_count": 10,
   "metadata": {},
   "outputs": [
    {
     "name": "stdout",
     "output_type": "stream",
     "text": [
      "1.25\n",
      "1.375\n",
      "1.3125\n",
      "1.34375\n",
      "1.359375\n",
      "1.3671875\n",
      "1.37109375\n",
      "1.369140625\n",
      "1.3681640625\n",
      "1.36865234375\n",
      "1.368896484375\n",
      "1.3687744140625\n",
      "1.36883544921875\n",
      "1.368804931640625\n",
      "1.3688201904296875\n",
      "1.3688125610351562\n",
      "1.3688087463378906\n",
      "1.3688068389892578\n",
      "1.3688077926635742\n",
      "1.3688082695007324\n",
      "1.3688080310821533\n",
      "1.3688081502914429\n",
      "1.368808090686798\n",
      "1.3688081204891205\n",
      "1.3688081055879593\n",
      "1.3688081130385399\n",
      "1.3688081093132496\n",
      "1.3688081074506044\n",
      "1.368808108381927\n",
      "1.3688081079162657\n",
      "1.368808107683435\n",
      "1.3688081077998504\n"
     ]
    },
    {
     "data": {
      "text/plain": [
       "1.3688081077998504"
      ]
     },
     "execution_count": 10,
     "metadata": {},
     "output_type": "execute_result"
    }
   ],
   "source": [
    "bissecção(1, 2)"
   ]
  }
 ],
 "metadata": {
  "kernelspec": {
   "display_name": "Python 3",
   "language": "python",
   "name": "python3"
  },
  "language_info": {
   "codemirror_mode": {
    "name": "ipython",
    "version": 3
   },
   "file_extension": ".py",
   "mimetype": "text/x-python",
   "name": "python",
   "nbconvert_exporter": "python",
   "pygments_lexer": "ipython3",
   "version": "3.11.4"
  }
 },
 "nbformat": 4,
 "nbformat_minor": 2
}

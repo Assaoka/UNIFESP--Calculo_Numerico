{
  "nbformat": 4,
  "nbformat_minor": 0,
  "metadata": {
    "colab": {
      "provenance": []
    },
    "kernelspec": {
      "name": "python3",
      "display_name": "Python 3"
    },
    "language_info": {
      "name": "python"
    }
  },
  "cells": [
    {
      "cell_type": "markdown",
      "source": [
        "<h1 align=\"center\">  Sistemas de Equações Lineares </h1>"
      ],
      "metadata": {
        "id": "ocitWu_yKtWQ"
      }
    },
    {
      "cell_type": "markdown",
      "source": [
        "## Integrantes:\n",
        "1. Lucas Molinari\n",
        "2. João Victor Assaoka Ribeiro\n",
        "3. Miguel Gustavo Santos Rangel\n",
        "4. Thomas Ṕires Correia\n",
        "5. Lucas Castelani Gouveia\n"
      ],
      "metadata": {
        "id": "XkeIddopL2lM"
      }
    },
    {
      "cell_type": "markdown",
      "source": [
        "## Resolução:"
      ],
      "metadata": {
        "id": "aexXxlaOL30R"
      }
    },
    {
      "cell_type": "code",
      "execution_count": null,
      "metadata": {
        "id": "Zdqj5rTFCzOC"
      },
      "outputs": [],
      "source": [
        "import numpy as np"
      ]
    },
    {
      "cell_type": "markdown",
      "source": [
        "$$ 5A + 0B + 2C + 0D + 4E = 25$$\n",
        "$$ 1A + 2B + 0C + 1D + 0E = 20$$\n",
        "$$ 0A + 1B + 1C + 0D + 0E = 15$$\n",
        "$$ 0A + 0B + 1C + 1D + 0E = 10$$\n",
        "$$ 0A + 0B + 0C + 1D + 1E = 5$$"
      ],
      "metadata": {
        "id": "XaEV2GuqL3Qo"
      }
    },
    {
      "cell_type": "code",
      "source": [
        "mat_A = [\n",
        "     [5, 0, 2, 0, 4],\n",
        "     [1, 2, 0, 1, 0],\n",
        "     [0, 1, 1, 0, 0],\n",
        "     [0, 0, 1, 1, 0],\n",
        "     [0, 0, 0, 1, 1]\n",
        "]\n",
        "mat_A"
      ],
      "metadata": {
        "colab": {
          "base_uri": "https://localhost:8080/"
        },
        "id": "-RbCr7LhF-yg",
        "outputId": "1231ba57-fbf9-40cb-d9e0-8509e8aed8e6"
      },
      "execution_count": null,
      "outputs": [
        {
          "output_type": "execute_result",
          "data": {
            "text/plain": [
              "[[5, 0, 2, 0, 4],\n",
              " [1, 2, 0, 1, 0],\n",
              " [0, 1, 1, 0, 0],\n",
              " [0, 0, 1, 1, 0],\n",
              " [0, 0, 0, 1, 1]]"
            ]
          },
          "metadata": {},
          "execution_count": 42
        }
      ]
    },
    {
      "cell_type": "code",
      "source": [
        "mat_B = [25, 20, 15, 10, 5]\n",
        "mat_B"
      ],
      "metadata": {
        "id": "beD4pLyLMoVa",
        "outputId": "8f1211d6-9103-4e5e-92a9-05efbb74d939",
        "colab": {
          "base_uri": "https://localhost:8080/"
        }
      },
      "execution_count": null,
      "outputs": [
        {
          "output_type": "execute_result",
          "data": {
            "text/plain": [
              "[25, 20, 15, 10, 5]"
            ]
          },
          "metadata": {},
          "execution_count": 43
        }
      ]
    },
    {
      "cell_type": "code",
      "source": [
        "A = np.array(mat_A)\n",
        "B = np.array(mat_B)"
      ],
      "metadata": {
        "id": "oSb4dxLAC4R5"
      },
      "execution_count": null,
      "outputs": []
    },
    {
      "cell_type": "code",
      "source": [
        "x = np.linalg.solve(A, B)\n",
        "print(f\"Solução: {x}\")"
      ],
      "metadata": {
        "colab": {
          "base_uri": "https://localhost:8080/"
        },
        "id": "SudzSGEvGKba",
        "outputId": "5b5bd882-10fd-4787-8272-575a7a738451"
      },
      "execution_count": null,
      "outputs": [
        {
          "output_type": "stream",
          "name": "stdout",
          "text": [
            "Solução: [0.71428571 8.0952381  6.9047619  3.0952381  1.9047619 ]\n"
          ]
        }
      ]
    }
  ]
}